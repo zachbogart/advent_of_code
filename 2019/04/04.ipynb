{
 "cells": [
  {
   "cell_type": "markdown",
   "metadata": {},
   "source": [
    "--- Day 4: Secure Container ---\n",
    "\n",
    "You arrive at the Venus fuel depot only to discover it's protected by a password. The Elves had written the password on a sticky note, but someone threw it out.\n",
    "\n",
    "However, they do remember a few key facts about the password:\n",
    "\n",
    "It is a six-digit number.\n",
    "- The value is within the range given in your puzzle input.\n",
    "- Two adjacent digits are the same (like 22 in 122345).\n",
    "- Going from left to right, the digits never decrease; they only ever increase or stay the same (like 111123 or 135679).\n",
    "- Other than the range rule, the following are true:\n",
    "\n",
    "- 111111 meets these criteria (double 11, never decreases).\n",
    "- 223450 does not meet these criteria (decreasing pair of digits 50).\n",
    "- 123789 does not meet these criteria (no double).\n",
    "- How many different passwords within the range given in your puzzle input meet these criteria?\n",
    "\n",
    "Your puzzle input is 171309-643603."
   ]
  },
  {
   "cell_type": "code",
   "execution_count": 13,
   "metadata": {},
   "outputs": [],
   "source": [
    "nums = list(range(171309, 643603 + 1))"
   ]
  },
  {
   "cell_type": "code",
   "execution_count": 14,
   "metadata": {
    "scrolled": true
   },
   "outputs": [],
   "source": [
    "container = list(map(str, nums))"
   ]
  },
  {
   "cell_type": "code",
   "execution_count": 42,
   "metadata": {},
   "outputs": [
    {
     "data": {
      "text/plain": [
       "['171309', '171310', '171311', '171312', '171313']"
      ]
     },
     "execution_count": 42,
     "metadata": {},
     "output_type": "execute_result"
    }
   ],
   "source": [
    "container[:5]"
   ]
  },
  {
   "cell_type": "markdown",
   "metadata": {},
   "source": [
    "## Part 1"
   ]
  },
  {
   "cell_type": "code",
   "execution_count": 43,
   "metadata": {},
   "outputs": [],
   "source": [
    "valid_numbers = []\n",
    "\n",
    "for num in container:\n",
    "    # setup\n",
    "    always_increasing = True\n",
    "    biggest_number_seen = int(num[0])\n",
    "    double_candidate = int(num[0])\n",
    "    has_a_double = False\n",
    "    \n",
    "    # loop through each number as a string\n",
    "    for digit_str in num[1:]:\n",
    "        digit = int(digit_str)\n",
    "        \n",
    "        # always increasing/staying the same\n",
    "        if digit >= biggest_number_seen:\n",
    "            biggest_number_seen = digit\n",
    "        else:\n",
    "            always_increasing = False\n",
    "            continue\n",
    "        \n",
    "        # check if a double is present\n",
    "        if digit == double_candidate:\n",
    "            has_a_double = True\n",
    "        else:\n",
    "            double_candidate = digit\n",
    "            \n",
    "    if always_increasing and has_a_double:\n",
    "        valid_numbers.append(num)\n",
    "#         print(num)\n",
    "           \n",
    "        "
   ]
  },
  {
   "cell_type": "code",
   "execution_count": 44,
   "metadata": {},
   "outputs": [
    {
     "data": {
      "text/plain": [
       "1625"
      ]
     },
     "execution_count": 44,
     "metadata": {},
     "output_type": "execute_result"
    }
   ],
   "source": [
    "len(valid_numbers)"
   ]
  }
 ],
 "metadata": {
  "kernelspec": {
   "display_name": "Python 3",
   "language": "python",
   "name": "python3"
  },
  "language_info": {
   "codemirror_mode": {
    "name": "ipython",
    "version": 3
   },
   "file_extension": ".py",
   "mimetype": "text/x-python",
   "name": "python",
   "nbconvert_exporter": "python",
   "pygments_lexer": "ipython3",
   "version": "3.7.2"
  }
 },
 "nbformat": 4,
 "nbformat_minor": 2
}
