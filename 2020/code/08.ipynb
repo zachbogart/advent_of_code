{
 "cells": [
  {
   "cell_type": "markdown",
   "metadata": {},
   "source": [
    "# Day 8: Handheld Halting\n",
    "\n",
    "#### Zach Bogart\n",
    "#### 12/07/2020\n",
    "\n",
    "- https://adventofcode.com/2020/day/8"
   ]
  },
  {
   "cell_type": "markdown",
   "metadata": {},
   "source": [
    "## Setup"
   ]
  },
  {
   "cell_type": "code",
   "execution_count": 1,
   "metadata": {},
   "outputs": [],
   "source": [
    "import pandas as pd\n",
    "import re"
   ]
  },
  {
   "cell_type": "code",
   "execution_count": 2,
   "metadata": {},
   "outputs": [],
   "source": [
    "with open(\"inputs/08-input.txt\") as f:\n",
    "    raw = f.read().splitlines()"
   ]
  },
  {
   "cell_type": "code",
   "execution_count": 3,
   "metadata": {},
   "outputs": [],
   "source": [
    "# separate and convert operations to numbers\n",
    "instructions = [item.split(\" \") for item in raw]\n",
    "instructions = [[item[0], int(item[1])] for item in instructions]"
   ]
  },
  {
   "cell_type": "code",
   "execution_count": 4,
   "metadata": {},
   "outputs": [
    {
     "data": {
      "text/plain": [
       "[['acc', -5], ['nop', 333], ['acc', 45], ['jmp', 288], ['acc', -9]]"
      ]
     },
     "execution_count": 4,
     "metadata": {},
     "output_type": "execute_result"
    }
   ],
   "source": [
    "instructions[:5]"
   ]
  },
  {
   "cell_type": "markdown",
   "metadata": {},
   "source": [
    "## Part 1"
   ]
  },
  {
   "cell_type": "code",
   "execution_count": 5,
   "metadata": {},
   "outputs": [],
   "source": [
    "# run infinite loop, stop when double back to visited instruction\n",
    "def run_the_loop(instructions):\n",
    "    line = 0\n",
    "    accumulator = 0\n",
    "    visited = []\n",
    "\n",
    "    # loop through instructions\n",
    "    while line not in visited:\n",
    "\n",
    "        # define values\n",
    "        operation = instructions[line][0]\n",
    "        argument = instructions[line][1]\n",
    "\n",
    "        # mark this line as visited\n",
    "        visited.append(line)\n",
    "        \n",
    "        # if at end, break (part 2)\n",
    "        if line == len(instructions) - 1:\n",
    "            break\n",
    "\n",
    "        # respond to new instructions\n",
    "\n",
    "        if operation == 'acc':\n",
    "            accumulator += argument\n",
    "            line += 1\n",
    "\n",
    "        if operation == 'jmp':\n",
    "            line += argument\n",
    "\n",
    "        if operation == 'nop':\n",
    "            line += 1\n",
    "    \n",
    "    return {\"last_line\": line,\n",
    "            \"accumulator\": accumulator}\n"
   ]
  },
  {
   "cell_type": "code",
   "execution_count": 6,
   "metadata": {},
   "outputs": [
    {
     "data": {
      "text/plain": [
       "{'last_line': 439, 'accumulator': 1709}"
      ]
     },
     "execution_count": 6,
     "metadata": {},
     "output_type": "execute_result"
    }
   ],
   "source": [
    "run_the_loop(instructions)"
   ]
  },
  {
   "cell_type": "markdown",
   "metadata": {},
   "source": [
    "## Part 2"
   ]
  },
  {
   "cell_type": "code",
   "execution_count": 7,
   "metadata": {},
   "outputs": [],
   "source": [
    "desired_end_index = len(instructions) - 1"
   ]
  },
  {
   "cell_type": "code",
   "execution_count": 8,
   "metadata": {},
   "outputs": [
    {
     "name": "stdout",
     "output_type": "stream",
     "text": [
      "{'last_line': 616, 'accumulator': 1976}\n"
     ]
    }
   ],
   "source": [
    "# swap 'nop' and 'jmp', run new instructions\n",
    "for ind, item in enumerate(instructions):\n",
    "    \n",
    "    modified = instructions.copy()\n",
    "    operation = item[0]\n",
    "    argument = item[1]\n",
    "    \n",
    "    if operation != 'acc':\n",
    "    \n",
    "        if operation == 'jmp':\n",
    "            modified[ind] = ['nop', argument]\n",
    "        elif operation == 'nop':\n",
    "            modified[ind] = ['jmp', argument]\n",
    "    \n",
    "        # run on new instructions\n",
    "        results = run_the_loop(modified)\n",
    "\n",
    "        # if the loop ends at the last line, print it out\n",
    "        if results['last_line'] == desired_end_index:\n",
    "            print(results)"
   ]
  }
 ],
 "metadata": {
  "kernelspec": {
   "display_name": "Python 3",
   "language": "python",
   "name": "python3"
  },
  "language_info": {
   "codemirror_mode": {
    "name": "ipython",
    "version": 3
   },
   "file_extension": ".py",
   "mimetype": "text/x-python",
   "name": "python",
   "nbconvert_exporter": "python",
   "pygments_lexer": "ipython3",
   "version": "3.7.2"
  }
 },
 "nbformat": 4,
 "nbformat_minor": 2
}
