{
 "cells": [
  {
   "cell_type": "markdown",
   "metadata": {},
   "source": [
    "# Day 7: Handy Haversacks\n",
    "\n",
    "#### Zach Bogart\n",
    "#### 12/07/2020\n",
    "\n",
    "- https://adventofcode.com/2020/day/7"
   ]
  },
  {
   "cell_type": "markdown",
   "metadata": {},
   "source": [
    "## Setup"
   ]
  },
  {
   "cell_type": "code",
   "execution_count": 1,
   "metadata": {},
   "outputs": [],
   "source": [
    "import pandas as pd\n",
    "import re\n",
    "\n",
    "from IPython.display import display, Latex"
   ]
  },
  {
   "cell_type": "code",
   "execution_count": 2,
   "metadata": {},
   "outputs": [],
   "source": [
    "with open(\"inputs/07-input.txt\") as f:\n",
    "    raw = f.readlines()"
   ]
  },
  {
   "cell_type": "code",
   "execution_count": 3,
   "metadata": {},
   "outputs": [],
   "source": [
    "raw = [re.sub(\" bag[s]?\", \"\", bag) for bag in raw]"
   ]
  },
  {
   "cell_type": "code",
   "execution_count": 4,
   "metadata": {},
   "outputs": [
    {
     "data": {
      "text/plain": [
       "['posh blue contain 5 plaid chartreuse, 3 plaid lime.\\n',\n",
       " 'clear teal contain 2 dotted salmon, 2 wavy red.\\n',\n",
       " 'faded blue contain 1 dotted chartreuse, 3 dim bronze.\\n',\n",
       " 'plaid black contain 5 muted beige, 2 pale gold, 3 wavy lavender, 5 dull yellow.\\n',\n",
       " 'bright cyan contain 2 vibrant teal.\\n',\n",
       " 'clear magenta contain 2 dim chartreuse.\\n',\n",
       " 'muted crimson contain 1 clear violet, 5 dark coral, 1 pale salmon, 3 light red.\\n',\n",
       " 'dotted green contain 3 muted plum.\\n',\n",
       " 'pale crimson contain 3 pale maroon, 2 mirrored tan.\\n',\n",
       " 'shiny black contain 1 wavy tomato.\\n']"
      ]
     },
     "execution_count": 4,
     "metadata": {},
     "output_type": "execute_result"
    }
   ],
   "source": [
    "raw[:10]"
   ]
  },
  {
   "cell_type": "code",
   "execution_count": 5,
   "metadata": {},
   "outputs": [],
   "source": [
    "bags_nested = [line[:-2].split(\" contain \") for line in raw]"
   ]
  },
  {
   "cell_type": "code",
   "execution_count": 6,
   "metadata": {},
   "outputs": [],
   "source": [
    "bags_nested = [[re.sub(\"[\\d]+ \", \"\", item) for item in bag] for bag in bags_nested]"
   ]
  },
  {
   "cell_type": "code",
   "execution_count": 7,
   "metadata": {},
   "outputs": [],
   "source": [
    "bags = {bag[0]: bag[1].split(\", \") for bag in bags_nested}"
   ]
  },
  {
   "cell_type": "code",
   "execution_count": 8,
   "metadata": {},
   "outputs": [
    {
     "data": {
      "text/plain": [
       "{'posh blue': ['plaid chartreuse', 'plaid lime'],\n",
       " 'clear teal': ['dotted salmon', 'wavy red'],\n",
       " 'faded blue': ['dotted chartreuse', 'dim bronze'],\n",
       " 'plaid black': ['muted beige', 'pale gold', 'wavy lavender', 'dull yellow'],\n",
       " 'bright cyan': ['vibrant teal'],\n",
       " 'clear magenta': ['dim chartreuse'],\n",
       " 'muted crimson': ['clear violet', 'dark coral', 'pale salmon', 'light red'],\n",
       " 'dotted green': ['muted plum'],\n",
       " 'pale crimson': ['pale maroon', 'mirrored tan'],\n",
       " 'shiny black': ['wavy tomato']}"
      ]
     },
     "execution_count": 8,
     "metadata": {},
     "output_type": "execute_result"
    }
   ],
   "source": [
    "{key: bags[key] for key in list(bags.keys())[:10]}"
   ]
  },
  {
   "cell_type": "code",
   "execution_count": 2,
   "metadata": {},
   "outputs": [
    {
     "data": {
      "text/latex": [
       "\\newpage"
      ],
      "text/plain": [
       "<IPython.core.display.Latex object>"
      ]
     },
     "metadata": {},
     "output_type": "display_data"
    }
   ],
   "source": [
    "display(Latex(r\"\\newpage\"))"
   ]
  },
  {
   "cell_type": "markdown",
   "metadata": {},
   "source": [
    "## Part 1"
   ]
  },
  {
   "cell_type": "code",
   "execution_count": 9,
   "metadata": {},
   "outputs": [],
   "source": [
    "# for pretty printing\n",
    "# via https://stackoverflow.com/questions/287871/how-to-print-colored-text-in-python \n",
    "class bcolors:\n",
    "    WARNING = '\\033[93m'\n",
    "    ENDC = '\\033[0m'"
   ]
  },
  {
   "cell_type": "code",
   "execution_count": 10,
   "metadata": {},
   "outputs": [],
   "source": [
    "def look_in_the_bag(bag, bag_dict, show_me=False):\n",
    "    if show_me: print(f\"{bag} --> \", end=\"\")\n",
    "    if 'no other' in bag_dict[bag]:\n",
    "        if show_me: print(\"no other\")\n",
    "        return False\n",
    "    if 'shiny gold' in bag_dict[bag]:\n",
    "        if show_me: print(f\"{bcolors.WARNING}shiny gold{bcolors.ENDC}\")\n",
    "        return True\n",
    "    else:\n",
    "        for bag in bag_dict[bag]:\n",
    "            if look_in_the_bag(bag, bag_dict, show_me) == 1:\n",
    "                return True\n",
    "        return False\n",
    "            "
   ]
  },
  {
   "cell_type": "code",
   "execution_count": 11,
   "metadata": {},
   "outputs": [
    {
     "name": "stdout",
     "output_type": "stream",
     "text": [
      "dim tan --> plaid bronze --> posh lime --> shiny tomato --> no other\n",
      "dark brown --> muted turquoise --> no other\n",
      "plaid white --> no other\n",
      "bright tomato --> dark brown --> muted turquoise --> no other\n",
      "plaid white --> no other\n",
      "pale salmon --> shiny orange --> no other\n",
      "dark brown --> muted turquoise --> no other\n",
      "plaid white --> no other\n",
      "dark coral --> shiny bronze --> no other\n",
      "shiny tomato --> no other\n",
      "bright tomato --> dark brown --> muted turquoise --> no other\n",
      "plaid white --> no other\n",
      "plaid white --> no other\n",
      "faded red --> no other\n",
      "pale magenta --> \u001b[93mshiny gold\u001b[0m\n"
     ]
    },
    {
     "data": {
      "text/plain": [
       "True"
      ]
     },
     "execution_count": 11,
     "metadata": {},
     "output_type": "execute_result"
    }
   ],
   "source": [
    "look_in_the_bag(\"dim tan\", bags, show_me=True)"
   ]
  },
  {
   "cell_type": "code",
   "execution_count": 12,
   "metadata": {},
   "outputs": [],
   "source": [
    "shiny_gold_inside = {}\n",
    "for bag in bags:\n",
    "    shiny_gold_inside[bag] = look_in_the_bag(bag, bags)"
   ]
  },
  {
   "cell_type": "code",
   "execution_count": 13,
   "metadata": {},
   "outputs": [
    {
     "data": {
      "text/plain": [
       "142"
      ]
     },
     "execution_count": 13,
     "metadata": {},
     "output_type": "execute_result"
    }
   ],
   "source": [
    "sum(shiny_gold_inside.values())"
   ]
  },
  {
   "cell_type": "code",
   "execution_count": 3,
   "metadata": {},
   "outputs": [
    {
     "data": {
      "text/latex": [
       "\\newpage"
      ],
      "text/plain": [
       "<IPython.core.display.Latex object>"
      ]
     },
     "metadata": {},
     "output_type": "display_data"
    }
   ],
   "source": [
    "display(Latex(r\"\\newpage\"))"
   ]
  },
  {
   "cell_type": "markdown",
   "metadata": {},
   "source": [
    "## Part 2"
   ]
  },
  {
   "cell_type": "code",
   "execution_count": 14,
   "metadata": {},
   "outputs": [],
   "source": [
    "bags_nested_2 = [line[:-2].split(\" contain \") for line in raw]"
   ]
  },
  {
   "cell_type": "code",
   "execution_count": 15,
   "metadata": {},
   "outputs": [],
   "source": [
    "bags_2 = {bag[0]: bag[1].split(\", \") for bag in bags_nested_2}"
   ]
  },
  {
   "cell_type": "code",
   "execution_count": 16,
   "metadata": {},
   "outputs": [
    {
     "data": {
      "text/plain": [
       "['5 plaid chartreuse', '3 plaid lime']"
      ]
     },
     "execution_count": 16,
     "metadata": {},
     "output_type": "execute_result"
    }
   ],
   "source": [
    "bags_2[\"posh blue\"]"
   ]
  },
  {
   "cell_type": "code",
   "execution_count": 17,
   "metadata": {},
   "outputs": [],
   "source": [
    "def repeat_and_flatten(bag):\n",
    "    nested =[]\n",
    "    for item in bag:\n",
    "        if item == \"no other\":\n",
    "            return bag\n",
    "        else:\n",
    "            contents = re.search(\"([\\d]+ )(.*)\", item)\n",
    "            repeat_count = int(contents.group(1))\n",
    "            color = contents.group(2)\n",
    "\n",
    "            repeated = [color] * repeat_count\n",
    "\n",
    "            nested.append(repeated)\n",
    "\n",
    "            flattened = [val for sub_list in nested for val in sub_list]\n",
    "    \n",
    "    return flattened"
   ]
  },
  {
   "cell_type": "code",
   "execution_count": 18,
   "metadata": {},
   "outputs": [],
   "source": [
    "bags_repeated = {key:repeat_and_flatten(val) for key, val in bags_2.items()}"
   ]
  },
  {
   "cell_type": "code",
   "execution_count": 21,
   "metadata": {},
   "outputs": [],
   "source": [
    "# count up every nested bag\n",
    "def all_bags_unpacked(bag, bag_dict, show_me=False):\n",
    "    if show_me: print(f\"{bag} --> \", end=\"\")\n",
    "    if 'no other' in bag_dict[bag]:\n",
    "        if show_me: print(\"no other\")\n",
    "        return 1\n",
    "    else:\n",
    "        total = 1\n",
    "        for bag in bag_dict[bag]:\n",
    "            total += all_bags_unpacked(bag, bag_dict, show_me)\n",
    "        return total"
   ]
  },
  {
   "cell_type": "code",
   "execution_count": 22,
   "metadata": {},
   "outputs": [
    {
     "data": {
      "text/plain": [
       "10219"
      ]
     },
     "execution_count": 22,
     "metadata": {},
     "output_type": "execute_result"
    }
   ],
   "source": [
    "# subtract the first bag, just the ones it contains\n",
    "all_bags_unpacked(\"shiny gold\", bags_repeated, show_me=False) - 1"
   ]
  },
  {
   "cell_type": "code",
   "execution_count": 4,
   "metadata": {},
   "outputs": [
    {
     "data": {
      "text/latex": [
       "\\newpage"
      ],
      "text/plain": [
       "<IPython.core.display.Latex object>"
      ]
     },
     "metadata": {},
     "output_type": "display_data"
    }
   ],
   "source": [
    "display(Latex(r\"\\newpage\"))"
   ]
  },
  {
   "cell_type": "markdown",
   "metadata": {},
   "source": [
    "## Testing"
   ]
  },
  {
   "cell_type": "code",
   "execution_count": 23,
   "metadata": {},
   "outputs": [],
   "source": [
    "test = {\"shiny gold\": [\"dark red\", \"dark red\"],\n",
    " \"dark red\": [\"dark orange\", \"dark orange\"],\n",
    " \"dark orange\": [\"dark yellow\", \"dark yellow\"],\n",
    " \"dark yellow\": [\"dark green\", \"dark green\"],\n",
    " \"dark green\": [\"dark blue\", \"dark blue\"],\n",
    " \"dark blue\": [\"dark violet\", \"dark violet\"],\n",
    " \"dark violet\": [\"no other\"],\n",
    "}\n",
    "\n",
    "test2 = {\n",
    "    \"faded blue\": [\"no other\"],\n",
    "    \"dotted black\": [\"no other\"],\n",
    "    \"vibrant plum\": [\"faded blue\", \"faded blue\", \"faded blue\", \"faded blue\", \"faded blue\",\n",
    "                    \"dotted black\", \"dotted black\", \"dotted black\", \"dotted black\" ,\"dotted black\", \"dotted black\"],\n",
    "    \"dark olive\": [\"dotted black\", \"dotted black\", \"dotted black\", \"dotted black\",\n",
    "                  \"faded blue\", \"faded blue\", \"faded blue\"],\n",
    "    \"shiny gold\": [\"dark olive\", \"vibrant plum\", \"vibrant plum\"]\n",
    "}"
   ]
  },
  {
   "cell_type": "code",
   "execution_count": 24,
   "metadata": {},
   "outputs": [
    {
     "data": {
      "text/plain": [
       "127"
      ]
     },
     "execution_count": 24,
     "metadata": {},
     "output_type": "execute_result"
    }
   ],
   "source": [
    "all_bags_unpacked(\"shiny gold\", test, show_me=False)"
   ]
  },
  {
   "cell_type": "code",
   "execution_count": 25,
   "metadata": {},
   "outputs": [
    {
     "data": {
      "text/plain": [
       "33"
      ]
     },
     "execution_count": 25,
     "metadata": {},
     "output_type": "execute_result"
    }
   ],
   "source": [
    "all_bags_unpacked(\"shiny gold\", test2, show_me=False)"
   ]
  }
 ],
 "metadata": {
  "kernelspec": {
   "display_name": "Python 3",
   "language": "python",
   "name": "python3"
  },
  "language_info": {
   "codemirror_mode": {
    "name": "ipython",
    "version": 3
   },
   "file_extension": ".py",
   "mimetype": "text/x-python",
   "name": "python",
   "nbconvert_exporter": "python",
   "pygments_lexer": "ipython3",
   "version": "3.7.2"
  }
 },
 "nbformat": 4,
 "nbformat_minor": 2
}
